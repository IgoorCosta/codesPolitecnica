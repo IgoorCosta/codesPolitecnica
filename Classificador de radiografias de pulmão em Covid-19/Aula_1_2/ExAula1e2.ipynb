{
  "nbformat": 4,
  "nbformat_minor": 0,
  "metadata": {
    "colab": {
      "provenance": [],
      "gpuType": "T4"
    },
    "kernelspec": {
      "name": "python3",
      "display_name": "Python 3"
    },
    "language_info": {
      "name": "python"
    },
    "accelerator": "GPU"
  },
  "cells": [
    {
      "cell_type": "markdown",
      "source": [
        "### Exercicio 1"
      ],
      "metadata": {
        "id": "EqsCaZrk2QIC"
      }
    },
    {
      "cell_type": "code",
      "execution_count": null,
      "metadata": {
        "colab": {
          "base_uri": "https://localhost:8080/"
        },
        "id": "AgozIRMXuni1",
        "outputId": "26f8817a-aa8c-41ee-961e-a8e684fb7be8"
      },
      "outputs": [
        {
          "output_type": "stream",
          "name": "stdout",
          "text": [
            "Downloading data from https://storage.googleapis.com/tensorflow/tf-keras-datasets/mnist.npz\n",
            "11490434/11490434 [==============================] - 0s 0us/step\n",
            "Epoch 1/30\n",
            "114/114 - 11s - loss: 0.0730 - accuracy: 0.9744 - 11s/epoch - 100ms/step\n",
            "Epoch 2/30\n",
            "114/114 - 0s - loss: 0.0141 - accuracy: 0.9951 - 381ms/epoch - 3ms/step\n",
            "Epoch 3/30\n",
            "114/114 - 0s - loss: 0.0087 - accuracy: 0.9974 - 369ms/epoch - 3ms/step\n",
            "Epoch 4/30\n",
            "114/114 - 0s - loss: 0.0066 - accuracy: 0.9979 - 385ms/epoch - 3ms/step\n",
            "Epoch 5/30\n",
            "114/114 - 0s - loss: 0.0042 - accuracy: 0.9988 - 370ms/epoch - 3ms/step\n",
            "Epoch 6/30\n",
            "114/114 - 0s - loss: 0.0036 - accuracy: 0.9988 - 374ms/epoch - 3ms/step\n",
            "Epoch 7/30\n",
            "114/114 - 0s - loss: 0.0034 - accuracy: 0.9989 - 379ms/epoch - 3ms/step\n",
            "Epoch 8/30\n",
            "114/114 - 0s - loss: 0.0041 - accuracy: 0.9981 - 385ms/epoch - 3ms/step\n",
            "Epoch 9/30\n",
            "114/114 - 0s - loss: 6.2661e-04 - accuracy: 0.9999 - 382ms/epoch - 3ms/step\n",
            "Epoch 10/30\n",
            "114/114 - 0s - loss: 3.3918e-04 - accuracy: 1.0000 - 391ms/epoch - 3ms/step\n",
            "Epoch 11/30\n",
            "114/114 - 0s - loss: 9.8952e-05 - accuracy: 1.0000 - 378ms/epoch - 3ms/step\n",
            "Epoch 12/30\n",
            "114/114 - 0s - loss: 6.2164e-05 - accuracy: 1.0000 - 374ms/epoch - 3ms/step\n",
            "Epoch 13/30\n",
            "114/114 - 0s - loss: 4.5092e-05 - accuracy: 1.0000 - 393ms/epoch - 3ms/step\n",
            "Epoch 14/30\n",
            "114/114 - 0s - loss: 3.8436e-05 - accuracy: 1.0000 - 378ms/epoch - 3ms/step\n",
            "Epoch 15/30\n",
            "114/114 - 0s - loss: 3.2064e-05 - accuracy: 1.0000 - 377ms/epoch - 3ms/step\n",
            "Epoch 16/30\n",
            "114/114 - 0s - loss: 2.7009e-05 - accuracy: 1.0000 - 383ms/epoch - 3ms/step\n",
            "Epoch 17/30\n",
            "114/114 - 0s - loss: 2.3568e-05 - accuracy: 1.0000 - 379ms/epoch - 3ms/step\n",
            "Epoch 18/30\n",
            "114/114 - 0s - loss: 2.0588e-05 - accuracy: 1.0000 - 385ms/epoch - 3ms/step\n",
            "Epoch 19/30\n",
            "114/114 - 0s - loss: 1.8868e-05 - accuracy: 1.0000 - 372ms/epoch - 3ms/step\n",
            "Epoch 20/30\n",
            "114/114 - 0s - loss: 1.6345e-05 - accuracy: 1.0000 - 408ms/epoch - 4ms/step\n",
            "Epoch 21/30\n",
            "114/114 - 1s - loss: 1.4782e-05 - accuracy: 1.0000 - 519ms/epoch - 5ms/step\n",
            "Epoch 22/30\n",
            "114/114 - 1s - loss: 1.3103e-05 - accuracy: 1.0000 - 513ms/epoch - 5ms/step\n",
            "Epoch 23/30\n",
            "114/114 - 0s - loss: 1.1776e-05 - accuracy: 1.0000 - 497ms/epoch - 4ms/step\n",
            "Epoch 24/30\n",
            "114/114 - 1s - loss: 1.0858e-05 - accuracy: 1.0000 - 524ms/epoch - 5ms/step\n",
            "Epoch 25/30\n",
            "114/114 - 0s - loss: 9.6170e-06 - accuracy: 1.0000 - 397ms/epoch - 3ms/step\n",
            "Epoch 26/30\n",
            "114/114 - 0s - loss: 8.7878e-06 - accuracy: 1.0000 - 385ms/epoch - 3ms/step\n",
            "Epoch 27/30\n",
            "114/114 - 0s - loss: 8.0901e-06 - accuracy: 1.0000 - 374ms/epoch - 3ms/step\n",
            "Epoch 28/30\n",
            "114/114 - 0s - loss: 7.3166e-06 - accuracy: 1.0000 - 382ms/epoch - 3ms/step\n",
            "Epoch 29/30\n",
            "114/114 - 0s - loss: 6.7439e-06 - accuracy: 1.0000 - 381ms/epoch - 3ms/step\n",
            "Epoch 30/30\n",
            "114/114 - 0s - loss: 6.1512e-06 - accuracy: 1.0000 - 387ms/epoch - 3ms/step\n",
            "Tempo de treino: 41.86 s\n",
            "Test loss: 0.0185\n",
            "Test accuracy: 99.78 %\n",
            "Test error: 0.22 %\n",
            "58/58 [==============================] - 0s 2ms/step\n",
            "Tempo de predicao: 0.50 s\n",
            "Número de erros: 4\n"
          ]
        }
      ],
      "source": [
        "import os\n",
        "os.environ['TF_CPP_MIN_LOG_LEVEL'] = '3'\n",
        "os.environ['TF_FORCE_GPU_ALLOW_GROWTH'] = 'true'\n",
        "import tensorflow.keras as keras\n",
        "from tensorflow.keras.datasets import mnist\n",
        "from tensorflow.keras.models import Sequential\n",
        "from tensorflow.keras.layers import Conv2D, MaxPooling2D, Flatten, Dense\n",
        "from tensorflow.keras import optimizers\n",
        "import numpy as np\n",
        "from time import time\n",
        "\n",
        "# Carregar os dados MNIST\n",
        "(AX, AY), (QX, QY) = mnist.load_data()\n",
        "\n",
        "# Filtrar somente os dígitos 5 e 6\n",
        "labels_to_filter = [5, 6]\n",
        "indices_to_keep_train = np.where(np.isin(AY, labels_to_filter))[0]\n",
        "indices_to_keep_test = np.where(np.isin(QY, labels_to_filter))[0]\n",
        "AX = AX[indices_to_keep_train]\n",
        "AY = AY[indices_to_keep_train]\n",
        "QX = QX[indices_to_keep_test]\n",
        "QY = QY[indices_to_keep_test]\n",
        "\n",
        "nclasses = 2  # Número de classes (5 e 6)\n",
        "AY2 = keras.utils.to_categorical(AY - 5, nclasses)  # Rotular 5 como 0 e 6 como 1\n",
        "QY2 = keras.utils.to_categorical(QY - 5, nclasses)\n",
        "\n",
        "nl, nc = AX.shape[1], AX.shape[2]\n",
        "AX = (AX.astype('float32') / 255.0) - 0.5\n",
        "QX = (QX.astype('float32') / 255.0) - 0.5\n",
        "AX = np.expand_dims(AX, axis=3)\n",
        "QX = np.expand_dims(QX, axis=3)\n",
        "\n",
        "model = Sequential()\n",
        "model.add(Conv2D(20, kernel_size=(5, 5), activation='relu', input_shape=(nl, nc, 1)))\n",
        "model.add(MaxPooling2D(pool_size=(2, 2)))\n",
        "model.add(Conv2D(40, kernel_size=(5, 5), activation='relu'))\n",
        "model.add(MaxPooling2D(pool_size=(2, 2)))\n",
        "model.add(Flatten())\n",
        "model.add(Dense(200, activation='relu'))\n",
        "model.add(Dense(nclasses, activation='softmax'))\n",
        "\n",
        "opt = optimizers.Adam()\n",
        "model.compile(optimizer=opt, loss='categorical_crossentropy', metrics=['accuracy'])\n",
        "\n",
        "t0 = time()\n",
        "model.fit(AX, AY2, batch_size=100, epochs=30, verbose=2)\n",
        "t1 = time()\n",
        "print(\"Tempo de treino: %.2f s\" % (t1 - t0))\n",
        "\n",
        "score = model.evaluate(QX, QY2, verbose=False)\n",
        "print('Test loss: %.4f' % (score[0]))\n",
        "print('Test accuracy: %.2f %%' % (100 * score[1]))\n",
        "print('Test error: %.2f %%' % (100 * (1 - score[1])))\n",
        "\n",
        "t2 = time()\n",
        "QP2 = model.predict(QX)\n",
        "QP = np.argmax(QP2, axis=1) + 5  # Converter 0 para 5 e 1 para 6\n",
        "t3 = time()\n",
        "print(\"Tempo de predicao: %.2f s\" % (t3 - t2))\n",
        "nerro = np.count_nonzero(QP - QY)\n",
        "print(\"Número de erros: %d\" % nerro)\n",
        "\n",
        "model.save('cnn_digit_5_6.h5')"
      ]
    },
    {
      "cell_type": "code",
      "source": [
        "import matplotlib.pyplot as plt\n",
        "\n",
        "# Encontrar índices dos exemplos classificados incorretamente\n",
        "incorrect_indices = np.where(QP != QY)[0]\n",
        "\n",
        "# Selecionar exemplos classificados incorretamente\n",
        "QEX_incorrect = QX[incorrect_indices]\n",
        "QEY_incorrect = QY[incorrect_indices]\n",
        "QEP_incorrect = QP[incorrect_indices]\n",
        "\n",
        "# Plot dos exemplos classificados incorretamente\n",
        "num_errors = len(incorrect_indices)\n",
        "f = plt.figure(figsize=(num_errors * 2, 2))\n",
        "for i in range(num_errors):\n",
        "    f.add_subplot(1, num_errors, i+1)\n",
        "    plt.imshow(QEX_incorrect[i, :, :, 0], cmap=\"gray\")\n",
        "    plt.axis(\"off\")\n",
        "    plt.text(0, -3, str(QEY_incorrect[i]), color=\"b\")\n",
        "    plt.text(0, 2, str(QEP_incorrect[i]), color=\"r\")\n",
        "\n",
        "plt.savefig(\"incorrect_predictions.png\")\n",
        "plt.show()\n"
      ],
      "metadata": {
        "colab": {
          "base_uri": "https://localhost:8080/",
          "height": 194
        },
        "id": "2a-TZPhNzWaD",
        "outputId": "9ca028a5-aa81-4e7e-abf9-12a24c9bb99d"
      },
      "execution_count": null,
      "outputs": [
        {
          "output_type": "display_data",
          "data": {
            "text/plain": [
              "<Figure size 800x200 with 4 Axes>"
            ],
            "image/png": "[encoded data removed]"
          },
          "metadata": {}
        }
      ]
    },
    {
      "cell_type": "markdown",
      "source": [
        "Exercicio 2"
      ],
      "metadata": {
        "id": "9If3Jio-2Y3y"
      }
    },
    {
      "cell_type": "code",
      "source": [
        "import tensorflow as tf\n",
        "\n",
        "# Definir os valores das variáveis\n",
        "w1 = -0.2\n",
        "w2 = 0.5\n",
        "w3 = 0.9\n",
        "w4 = -0.6\n",
        "w5 = 0.2\n",
        "w6 = -0.4\n",
        "b1 = 0.4\n",
        "b2 = -0.2\n",
        "b3 = -0.5\n",
        "i1 = 0.6\n",
        "i2 = -0.3\n",
        "y = 1.0\n",
        "\n",
        "# Definir as variáveis treináveis\n",
        "w1 = tf.Variable(w1)\n",
        "w2 = tf.Variable(w2)\n",
        "w3 = tf.Variable(w3)\n",
        "w4 = tf.Variable(w4)\n",
        "w5 = tf.Variable(w5)\n",
        "w6 = tf.Variable(w6)\n",
        "b1 = tf.Variable(b1)\n",
        "b2 = tf.Variable(b2)\n",
        "b3 = tf.Variable(b3)\n",
        "\n",
        "# Definir os cálculos da rede neural\n",
        "with tf.GradientTape(persistent=True) as tape:\n",
        "    z1 = w1 * i1 + w2 * i2 + b1\n",
        "    p1 = tf.math.sigmoid(z1)\n",
        "    z2 = w3 * i1 + w4 * i2 + b2\n",
        "    p2 = tf.math.sigmoid(z2)\n",
        "    z3 = w5 * p1 + w6 * p2 + b3\n",
        "    c = (z3 - y) ** 2\n",
        "\n",
        "# Calcular as derivadas parciais\n",
        "dcdw1, dcdw2, dcdw3, dcdw4, dcdw5, dcdw6 = tape.gradient(c, [w1, w2, w3, w4, w5, w6])\n",
        "dcdb1, dcdb2, dcdb3 = tape.gradient(c, [b1, b2, b3])\n",
        "\n",
        "# Imprimir as derivadas parciais\n",
        "print(\"dcdw1:\", dcdw1.numpy())\n",
        "print(\"dcdw2:\", dcdw2.numpy())\n",
        "print(\"dcdw3:\", dcdw3.numpy())\n",
        "print(\"dcdw4:\", dcdw4.numpy())\n",
        "print(\"dcdw5:\", dcdw5.numpy())\n",
        "print(\"dcdw6:\", dcdw6.numpy())\n",
        "print(\"dcdb1:\", dcdb1.numpy())\n",
        "print(\"dcdb2:\", dcdb2.numpy())\n",
        "print(\"dcdb3:\", dcdb3.numpy())\n",
        "\n",
        "# Limpar o contexto do GradientTape\n",
        "del tape"
      ],
      "metadata": {
        "colab": {
          "base_uri": "https://localhost:8080/"
        },
        "id": "ssxDHXpu2XNd",
        "outputId": "9e4c57ac-d8bf-428a-b4a9-c00578122ff9"
      },
      "execution_count": null,
      "outputs": [
        {
          "output_type": "stream",
          "name": "stdout",
          "text": [
            "dcdw1: -0.09824643\n",
            "dcdw2: 0.049123216\n",
            "dcdw3: 0.184564\n",
            "dcdw4: -0.092282\n",
            "dcdw5: -1.751102\n",
            "dcdw6: -2.0625236\n",
            "dcdb1: -0.16374405\n",
            "dcdb2: 0.30760664\n",
            "dcdb3: -3.2887366\n"
          ]
        }
      ]
    }
  ]
}