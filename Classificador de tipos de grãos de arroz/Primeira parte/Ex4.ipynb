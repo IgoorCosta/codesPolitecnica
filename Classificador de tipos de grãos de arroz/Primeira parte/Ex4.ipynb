{
  "nbformat": 4,
  "nbformat_minor": 0,
  "metadata": {
    "colab": {
      "provenance": []
    },
    "kernelspec": {
      "name": "python3",
      "display_name": "Python 3"
    },
    "language_info": {
      "name": "python"
    }
  },
  "cells": [
    {
      "cell_type": "markdown",
      "metadata": {
        "id": "Z-hf9hkSIo8y"
      },
      "source": [
        "#EP4 - CNN"
      ]
    },
    {
      "cell_type": "markdown",
      "metadata": {
        "id": "Bm2XLKZeMF9Y"
      },
      "source": [
        "Iniciando com a importação da bibliotecas:"
      ]
    },
    {
      "cell_type": "code",
      "execution_count": null,
      "metadata": {
        "id": "8b5SidbcMF9q"
      },
      "outputs": [],
      "source": [
        "import numpy\n",
        "import matplotlib.pyplot as plt\n",
        "\n",
        "import torch\n",
        "import torch.nn as nn\n",
        "\n",
        "from torchvision import datasets, transforms\n",
        "\n",
        "dir_data = \"~/temp\"\n",
        "\n",
        "train_loader = torch.utils.data.DataLoader(\n",
        "    datasets.FashionMNIST(\n",
        "        dir_data,\n",
        "        train=True,\n",
        "        download=True,\n",
        "        transform=transforms.Compose(\n",
        "            [transforms.ToTensor()]\n",
        "        ),\n",
        "    ),\n",
        "    batch_size=Nb,\n",
        "    shuffle=True,\n",
        ")\n",
        "test_loader = torch.utils.data.DataLoader(\n",
        "    datasets.FashionMNIST(\n",
        "        dir_data,\n",
        "        train=False,\n",
        "        transform=transforms.Compose(\n",
        "            [transforms.ToTensor()]\n",
        "        ),\n",
        "    ),\n",
        "    batch_size=Nb_test,\n",
        "    shuffle=True,\n",
        ")"
      ]
    },
    {
      "cell_type": "code",
      "execution_count": null,
      "metadata": {
        "tags": [],
        "id": "oaHRJqnjMXYa"
      },
      "outputs": [],
      "source": [
        "class Model(nn.Module):\n",
        "    def __init__(self):\n",
        "        # Necessário chamar __init__() da classe mãe\n",
        "        super().__init__()\n",
        "\n",
        "        # Camada convolucional, seguida de ReLU e Pooling\n",
        "        # Entra uma imagem 28x28. Com filtro 5x5, padding de 2\n",
        "        # e stride 1, a saída também tem 28x28. Após o pooling,\n",
        "        # a saída fica com 14x14. A entrada tem 1 canal e a\n",
        "        # saída tem 16.\n",
        "        self.conv1 = nn.Sequential(\n",
        "            nn.Conv2d(\n",
        "                in_channels=1,\n",
        "                out_channels=16,\n",
        "                kernel_size=5,\n",
        "                stride=1,\n",
        "                padding=2,\n",
        "            ),\n",
        "            nn.ReLU(),\n",
        "            nn.MaxPool2d(kernel_size=2),\n",
        "        )\n",
        "\n",
        "        # Camada convolucional\n",
        "        # Entrada 14x14, saída 7x7 após o pooling.\n",
        "        # 16 canais de entrada e 32 de saída.\n",
        "        self.conv2 = nn.Sequential(\n",
        "            nn.Conv2d(16, 32, 5, 1, 2),\n",
        "            nn.ReLU(),\n",
        "            nn.MaxPool2d(2),\n",
        "        )\n",
        "\n",
        "        # Camada totalmente conectada\n",
        "        # Na entrada, há 32 canais de 7x7 elementos\n",
        "        # e a saída tem 10 neurônios.\n",
        "        self.out = nn.Linear(32 * 7 * 7, 10)\n",
        "\n",
        "    def forward(self, x):\n",
        "        # Aplica primeira camada convolucional\n",
        "        x = self.conv1(x)\n",
        "\n",
        "        # Aplica segunda camada convolucional\n",
        "        x = self.conv2(x)\n",
        "\n",
        "        # Transforma os tensores 32x7x7 em\n",
        "        # vetores para serem usados na entrada da\n",
        "        # camada totalmente conectada. Vale notar\n",
        "        # que a primeira dimensão dos tensores de\n",
        "        # dados é usada para representar os diversos\n",
        "        # elementos de um batch, por isso permanece\n",
        "        # inalterada.\n",
        "        x = x.view(x.size(0), -1)\n",
        "\n",
        "        # Calcula a saída e retorna\n",
        "        output = self.out(x)\n",
        "        return output"
      ]
    },
    {
      "cell_type": "code",
      "source": [
        "def cnn(eta, Nb, Nb_test, Ne, train_loader, test_loader):\n",
        "\n",
        "  plt.figure(figsize=(16, 6))\n",
        "  for i in range(10):\n",
        "      plt.subplot(2, 5, i + 1)\n",
        "      image, _ = train_loader.dataset.__getitem__(i)\n",
        "      plt.imshow(image.squeeze().numpy())\n",
        "      plt.axis('off');\n",
        "\n",
        "  device = torch.device(\"cuda:0\" if torch.cuda.is_available() else \"cpu\")\n",
        "\n",
        "  # Instanciando modelo\n",
        "  model = Model().to(device)\n",
        "\n",
        "  # Função custo para treinamento\n",
        "  loss_function = nn.CrossEntropyLoss()\n",
        "\n",
        "  # Otimizador\n",
        "  optimizer = torch.optim.Adam(model.parameters(), lr = eta)\n",
        "\n",
        "    # Lista usada para guardar o valor da função custo ao longo das iterações\n",
        "  losses = []\n",
        "\n",
        "  # Loop das épocas\n",
        "  for epoch in range(Ne):\n",
        "      # Loop dos mini batches\n",
        "      for n, (X, d) in enumerate(train_loader):\n",
        "          # Envia os dados para a GPU, caso ela exista\n",
        "          X = X.to(device=device)\n",
        "          d = d.to(device=device)\n",
        "\n",
        "          # Ajuste de dimensões\n",
        "          # (elementos do mini batch x 1 canal x 28 x 28)\n",
        "          X = X.view(-1, 1, 28, 28)\n",
        "\n",
        "          # Coloca o modelo em modo treinamento\n",
        "          model.train()\n",
        "\n",
        "          # Zera informações de gradientes\n",
        "          model.zero_grad()\n",
        "\n",
        "          # Calcula a saída\n",
        "          y = model(X)\n",
        "\n",
        "          # Calcula o valor da função custo\n",
        "          loss = loss_function(y, d)\n",
        "\n",
        "          # Calcula os gradientes\n",
        "          loss.backward()\n",
        "\n",
        "          # Atualiza os pesos do modelo\n",
        "          optimizer.step()\n",
        "\n",
        "          # Armazena o valor da função custo\n",
        "          losses.append(loss.item())\n",
        "\n",
        "          # Mostra o valor da função custo a cada 100 iterações\n",
        "          if n % 100 == 0:\n",
        "              N_all = len(train_loader.dataset)\n",
        "              n_ex = n * len(X)\n",
        "              p = 100. * n / len(train_loader)\n",
        "              print(\n",
        "                  f\"Época: {epoch} [{n_ex}/{N_all} ({p:.0f}%)]\\tLoss: {loss:.6f}\"\n",
        "              )\n",
        "\n",
        "  plt.figure()\n",
        "  plt.plot(losses)\n",
        "  plt.xlabel(\"Batch\")\n",
        "  plt.ylabel(\"Loss\")\n",
        "\n",
        "    # Variável usada para contabilizar o número de acertos\n",
        "  correct = 0\n",
        "\n",
        "  # Loop dos mini batches\n",
        "  for n, (X, d) in enumerate(test_loader):\n",
        "      # Envia os dados para a GPU, caso ela exista\n",
        "      X = X.to(device=device)\n",
        "      d = d.to(device=device)\n",
        "\n",
        "      # Ajuste de dimensões\n",
        "      X = X.view(-1, 1, 28, 28)\n",
        "\n",
        "      # Coloca o modelo em modo de inferência\n",
        "      model.eval()\n",
        "\n",
        "      # Calcula a saída\n",
        "      y = model(X)\n",
        "\n",
        "      # Cálculo do número de acertos:\n",
        "      # 1) Obtém o índice do elemento máximo para cada exemplo do minibatch\n",
        "      pred = torch.max(y, 1, keepdim=True)[1]\n",
        "      # 2) Conta o número de acertos e acumula na variável correct\n",
        "      # pred.eq(d.view_as(pred)) é um tensor booleano. Dessa forma, o número de\n",
        "      # acertos é obtido somando seus elementos. Valores True são tratados como 1.\n",
        "      correct += pred.eq(d.view_as(pred)).cpu().sum().item()\n",
        "\n",
        "  # Mostra o desempenho obtido no teste\n",
        "  accuracy = 100. * correct / len(test_loader.dataset)\n",
        "  print(f\"Acurácia: {correct}/{len(test_loader.dataset)} ({accuracy:.0f}%)\")"
      ],
      "metadata": {
        "id": "t20v8wnfJfJx"
      },
      "execution_count": null,
      "outputs": []
    },
    {
      "cell_type": "markdown",
      "metadata": {
        "id": "GKCe-6j0MXYe"
      },
      "source": [
        "Avaliando modelo com os dados de teste:"
      ]
    },
    {
      "cell_type": "code",
      "execution_count": null,
      "metadata": {
        "tags": [],
        "colab": {
          "base_uri": "https://localhost:8080/",
          "height": 1000
        },
        "outputId": "d8c234e4-1a72-4258-a5e8-cec905e28238",
        "id": "Is-APoIjMXYe"
      },
      "outputs": [
        {
          "output_type": "stream",
          "name": "stdout",
          "text": [
            "Época: 0 [0/60000 (0%)]\tLoss: 2.304235\n",
            "Época: 0 [6400/60000 (11%)]\tLoss: 0.455445\n",
            "Época: 0 [12800/60000 (21%)]\tLoss: 0.642132\n",
            "Época: 0 [19200/60000 (32%)]\tLoss: 0.280353\n",
            "Época: 0 [25600/60000 (43%)]\tLoss: 0.234585\n",
            "Época: 0 [32000/60000 (53%)]\tLoss: 0.282970\n",
            "Época: 0 [38400/60000 (64%)]\tLoss: 0.655820\n",
            "Época: 0 [44800/60000 (75%)]\tLoss: 0.370400\n",
            "Época: 0 [51200/60000 (85%)]\tLoss: 0.548859\n",
            "Época: 0 [57600/60000 (96%)]\tLoss: 0.264330\n",
            "Época: 1 [0/60000 (0%)]\tLoss: 0.363758\n",
            "Época: 1 [6400/60000 (11%)]\tLoss: 0.568210\n",
            "Época: 1 [12800/60000 (21%)]\tLoss: 0.467625\n",
            "Época: 1 [19200/60000 (32%)]\tLoss: 0.330827\n",
            "Época: 1 [25600/60000 (43%)]\tLoss: 0.438767\n",
            "Época: 1 [32000/60000 (53%)]\tLoss: 0.484693\n",
            "Época: 1 [38400/60000 (64%)]\tLoss: 0.130801\n",
            "Época: 1 [44800/60000 (75%)]\tLoss: 0.368169\n",
            "Época: 1 [51200/60000 (85%)]\tLoss: 0.324026\n",
            "Época: 1 [57600/60000 (96%)]\tLoss: 0.199112\n",
            "Época: 2 [0/60000 (0%)]\tLoss: 0.126390\n",
            "Época: 2 [6400/60000 (11%)]\tLoss: 0.179829\n",
            "Época: 2 [12800/60000 (21%)]\tLoss: 0.156698\n",
            "Época: 2 [19200/60000 (32%)]\tLoss: 0.163791\n",
            "Época: 2 [25600/60000 (43%)]\tLoss: 0.349768\n",
            "Época: 2 [32000/60000 (53%)]\tLoss: 0.320103\n",
            "Época: 2 [38400/60000 (64%)]\tLoss: 0.314706\n",
            "Época: 2 [44800/60000 (75%)]\tLoss: 0.202951\n",
            "Época: 2 [51200/60000 (85%)]\tLoss: 0.279020\n",
            "Época: 2 [57600/60000 (96%)]\tLoss: 0.546280\n",
            "Época: 3 [0/60000 (0%)]\tLoss: 0.133680\n",
            "Época: 3 [6400/60000 (11%)]\tLoss: 0.272344\n",
            "Época: 3 [12800/60000 (21%)]\tLoss: 0.312349\n",
            "Época: 3 [19200/60000 (32%)]\tLoss: 0.292431\n",
            "Época: 3 [25600/60000 (43%)]\tLoss: 0.280896\n",
            "Época: 3 [32000/60000 (53%)]\tLoss: 0.274335\n",
            "Época: 3 [38400/60000 (64%)]\tLoss: 0.217245\n",
            "Época: 3 [44800/60000 (75%)]\tLoss: 0.154969\n",
            "Época: 3 [51200/60000 (85%)]\tLoss: 0.317392\n",
            "Época: 3 [57600/60000 (96%)]\tLoss: 0.163688\n",
            "Época: 4 [0/60000 (0%)]\tLoss: 0.290885\n",
            "Época: 4 [6400/60000 (11%)]\tLoss: 0.161534\n",
            "Época: 4 [12800/60000 (21%)]\tLoss: 0.241173\n",
            "Época: 4 [19200/60000 (32%)]\tLoss: 0.211163\n",
            "Época: 4 [25600/60000 (43%)]\tLoss: 0.153332\n",
            "Época: 4 [32000/60000 (53%)]\tLoss: 0.274476\n",
            "Época: 4 [38400/60000 (64%)]\tLoss: 0.101886\n",
            "Época: 4 [44800/60000 (75%)]\tLoss: 0.262061\n",
            "Época: 4 [51200/60000 (85%)]\tLoss: 0.303402\n",
            "Época: 4 [57600/60000 (96%)]\tLoss: 0.350128\n",
            "Época: 5 [0/60000 (0%)]\tLoss: 0.247529\n",
            "Época: 5 [6400/60000 (11%)]\tLoss: 0.188391\n",
            "Época: 5 [12800/60000 (21%)]\tLoss: 0.263782\n",
            "Época: 5 [19200/60000 (32%)]\tLoss: 0.171069\n",
            "Época: 5 [25600/60000 (43%)]\tLoss: 0.259912\n",
            "Época: 5 [32000/60000 (53%)]\tLoss: 0.315846\n",
            "Época: 5 [38400/60000 (64%)]\tLoss: 0.185186\n",
            "Época: 5 [44800/60000 (75%)]\tLoss: 0.176002\n",
            "Época: 5 [51200/60000 (85%)]\tLoss: 0.232031\n",
            "Época: 5 [57600/60000 (96%)]\tLoss: 0.177492\n",
            "Acurácia: 9078/10000 (91%)\n"
          ]
        },
        {
          "output_type": "display_data",
          "data": {
            "text/plain": [
              "<Figure size 1600x600 with 10 Axes>"
            ],
            "image/png": "[encoded data removed]"
          },
          "metadata": {}
        },
        {
          "output_type": "display_data",
          "data": {
            "text/plain": [
              "<Figure size 640x480 with 1 Axes>"
            ],
            "image/png": "[encoded data removed]"
          },
          "metadata": {}
        }
      ],
      "source": [
        "# Ajuste de hiperparâmetros\n",
        "\n",
        "eta = 0.0020       # passo de adaptação\n",
        "Nb = 16            # Tamanho do mini-batch\n",
        "Nb_test = 1000     # Tamanho do mini-batch usado no teste\n",
        "Ne = 6             # Número de épocas\n",
        "\n",
        "cnn(eta, Nb, Nb_test, Ne, train_loader, test_loader)"
      ]
    }
  ]
}