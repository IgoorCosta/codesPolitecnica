{
  "nbformat": 4,
  "nbformat_minor": 0,
  "metadata": {
    "colab": {
      "provenance": []
    },
    "kernelspec": {
      "name": "python3",
      "display_name": "Python 3"
    },
    "language_info": {
      "name": "python"
    }
  },
  "cells": [
    {
      "cell_type": "markdown",
      "source": [
        "# EP3 - MLP - 08/05\n",
        "\n"
      ],
      "metadata": {
        "id": "T6zzdhcZZLs0"
      }
    },
    {
      "cell_type": "code",
      "source": [
        "import numpy as np\n",
        "import matplotlib.pyplot as plt\n",
        "\n",
        "# Gerar dados de treinamento e teste\n",
        "Ntr = 1000\n",
        "Nte = 1000\n",
        "\n",
        "# item a\n",
        "a = np.random.uniform(1, 100, (Ntr, 1))\n",
        "ya = 1/a\n",
        "ta = np.random.uniform(1, 100, (Nte, 1))\n",
        "tya = 1/ta\n",
        "\n",
        "# item b\n",
        "b = np.random.uniform(1, 10, (Ntr, 1))\n",
        "yb = np.log(b)\n",
        "tb = np.random.uniform(1, 10, (Nte, 1))\n",
        "tyb = np.log(tb)\n",
        "\n",
        "# item c\n",
        "c = np.random.uniform(1, 10, (Ntr, 1))\n",
        "yc = np.exp(-c)\n",
        "tc = np.random.uniform(1, 10, (Nte, 1))\n",
        "tyc = np.exp(-tc)\n",
        "\n",
        "# item d\n",
        "d = np.random.uniform(0, np.pi/2, (Ntr, 1))\n",
        "yd = np.sin(d)\n",
        "td = np.random.uniform(0, np.pi/2, (Nte, 1))\n",
        "tyd = np.sin(td)\n",
        "\n",
        "\n",
        "def sigmoid(x):\n",
        "  return 1 / (1 + np.exp(-x))\n",
        "\n",
        "\n",
        "def treinamento(x, d, eta, Ne, Nn):\n",
        "  W1 = np.random.randn(x.shape[1], Nn)\n",
        "  b1 = np.zeros((1, Nn))\n",
        "\n",
        "  W2 = np.random.randn(Nn, 1)\n",
        "  b2 = np.zeros((1, 1))\n",
        "\n",
        "  for i in range(Ne):\n",
        "      z1 = np.dot(x, W1) + b1\n",
        "      a1 = sigmoid(z1)\n",
        "\n",
        "      z2 = np.dot(a1, W2) + b2\n",
        "      d_pred = sigmoid(z2)\n",
        "\n",
        "      cost = np.square(d_pred - d).mean()\n",
        "\n",
        "      delta2 = (d_pred - d) * d_pred * (1 - d_pred)\n",
        "      dW2 = np.dot(a1.T, delta2)\n",
        "      db2 = np.sum(delta2, axis=0, keepdims=True)\n",
        "\n",
        "      delta1 = np.dot(delta2, W2.T) * a1 * (1 - a1)\n",
        "      dW1 = np.dot(x.T, delta1)\n",
        "      db1 = np.sum(delta1, axis=0)\n",
        "\n",
        "      W2 -= eta * dW2\n",
        "      b2 -= eta * db2\n",
        "      W1 -= eta * dW1\n",
        "      b1 -= eta * db1\n",
        "\n",
        "  return W1, b1, W2, b2, cost\n",
        "\n",
        "\n",
        "def inferencia(x, W1, b1, W2, b2):\n",
        "    z1 = np.dot(x, W1) + b1\n",
        "    a1 = sigmoid(z1)\n",
        "\n",
        "    z2 = np.dot(a1, W2) + b2\n",
        "    y_pred = sigmoid(z2)\n",
        "\n",
        "    return y_pred.flatten()\n",
        "\n",
        "# Passo de adaptação do algoritmo backpropagation\n",
        "eta = 0.1\n",
        "\n",
        "# Número de épocas\n",
        "Ne = 1000\n",
        "\n",
        "# Número de neurônios na camada oculta\n",
        "Nn = [3, 4, 5, 10, 15, 20, 50, 100]"
      ],
      "metadata": {
        "id": "vDkoX3LzPrcu"
      },
      "execution_count": null,
      "outputs": []
    },
    {
      "cell_type": "code",
      "source": [
        "print(\"Item a \\n\")\n",
        "for n in Nn:\n",
        "    W1, b1, W2, b2, cost = treinamento(a, ya, eta, Ne, n)\n",
        "    y_pred = inferencia(ta, W1, b1, W2, b2)\n",
        "    mse = np.mean(np.square(y_pred - tya))\n",
        "    print(n, \"Neurônios na Camada Oculta - MSE:\", mse)"
      ],
      "metadata": {
        "id": "k45OQLl3VKG6",
        "colab": {
          "base_uri": "https://localhost:8080/"
        },
        "outputId": "c5042a9d-5525-42e0-a7ce-3af96b5193dd"
      },
      "execution_count": null,
      "outputs": [
        {
          "output_type": "stream",
          "name": "stdout",
          "text": [
            "Item a \n",
            "\n",
            "3 Neurônios na Camada Oculta - MSE: 0.01304916231717653\n",
            "4 Neurônios na Camada Oculta - MSE: 0.013049162201048877\n",
            "5 Neurônios na Camada Oculta - MSE: 0.01304916231628504\n"
          ]
        },
        {
          "output_type": "stream",
          "name": "stderr",
          "text": [
            "<ipython-input-1-36393fac6a77>:34: RuntimeWarning: overflow encountered in exp\n",
            "  return 1 / (1 + np.exp(-x))\n"
          ]
        },
        {
          "output_type": "stream",
          "name": "stdout",
          "text": [
            "10 Neurônios na Camada Oculta - MSE: 0.013049162317242853\n",
            "15 Neurônios na Camada Oculta - MSE: 0.013049162317229896\n",
            "20 Neurônios na Camada Oculta - MSE: 0.013049162317242853\n",
            "50 Neurônios na Camada Oculta - MSE: 0.0130491622956457\n",
            "100 Neurônios na Camada Oculta - MSE: 0.013049162317242853\n"
          ]
        }
      ]
    },
    {
      "cell_type": "code",
      "source": [
        "print(\"Item b \\n\")\n",
        "for n in Nn:\n",
        "    W1, b1, W2, b2, cost = treinamento(b, yb, eta, Ne, n)\n",
        "    y_pred = inferencia(tb, W1, b1, W2, b2)\n",
        "    mse = np.mean(np.square(y_pred - tyb))\n",
        "    print(n, \"Neurônios na Camada Oculta - MSE:\", mse)"
      ],
      "metadata": {
        "colab": {
          "base_uri": "https://localhost:8080/"
        },
        "id": "SPrJGJonUb5V",
        "outputId": "b015c482-7de7-4413-c517-b3267515646d"
      },
      "execution_count": null,
      "outputs": [
        {
          "output_type": "stream",
          "name": "stdout",
          "text": [
            "Item b \n",
            "\n",
            "3 Neurônios na Camada Oculta - MSE: 0.6621060303336938\n",
            "4 Neurônios na Camada Oculta - MSE: 0.6621060303331001\n",
            "5 Neurônios na Camada Oculta - MSE: 0.6621060303348995\n",
            "10 Neurônios na Camada Oculta - MSE: 0.6621060303330794\n",
            "15 Neurônios na Camada Oculta - MSE: 0.6621060518856532\n",
            "20 Neurônios na Camada Oculta - MSE: 0.6621060303331091\n",
            "50 Neurônios na Camada Oculta - MSE: 0.6621060303330794\n",
            "100 Neurônios na Camada Oculta - MSE: 0.6621060303330794\n"
          ]
        }
      ]
    },
    {
      "cell_type": "code",
      "source": [
        "print(\"Item c \\n\")\n",
        "for n in Nn:\n",
        "    W1, b1, W2, b2, cost = treinamento(c, yc, eta, Ne, n)\n",
        "    y_pred = inferencia(tc, W1, b1, W2, b2)\n",
        "    mse = np.mean(np.square(y_pred - tyc))\n",
        "    print(n, \"Neurônios na Camada Oculta - MSE:\", mse)"
      ],
      "metadata": {
        "colab": {
          "base_uri": "https://localhost:8080/"
        },
        "id": "eMjnHm2rVMTN",
        "outputId": "45400090-9bbf-4619-ddf9-4191454da825"
      },
      "execution_count": null,
      "outputs": [
        {
          "output_type": "stream",
          "name": "stdout",
          "text": [
            "Item c \n",
            "\n",
            "3 Neurônios na Camada Oculta - MSE: 0.011210320472960854\n",
            "4 Neurônios na Camada Oculta - MSE: 0.009904465229984538\n",
            "5 Neurônios na Camada Oculta - MSE: 0.011229373565027482\n",
            "10 Neurônios na Camada Oculta - MSE: 0.01068603536282037\n",
            "15 Neurônios na Camada Oculta - MSE: 0.012315462439058839\n",
            "20 Neurônios na Camada Oculta - MSE: 0.0071762691248806335\n",
            "50 Neurônios na Camada Oculta - MSE: 0.0071762691248806335\n",
            "100 Neurônios na Camada Oculta - MSE: 0.0071762691248806335\n"
          ]
        }
      ]
    },
    {
      "cell_type": "code",
      "source": [
        "print(\"Item d \\n\")\n",
        "for n in Nn:\n",
        "    W1, b1, W2, b2, cost = treinamento(d, yd, eta, Ne, n)\n",
        "    y_pred = inferencia(td, W1, b1, W2, b2)\n",
        "    mse = np.mean(np.square(y_pred - tyd))\n",
        "    print(n, \"Neurônios na Camada Oculta - MSE:\", mse)"
      ],
      "metadata": {
        "id": "MJwnWxv1VNwG",
        "colab": {
          "base_uri": "https://localhost:8080/"
        },
        "outputId": "bb02e1e5-56be-447d-eada-a9f629676799"
      },
      "execution_count": null,
      "outputs": [
        {
          "output_type": "stream",
          "name": "stdout",
          "text": [
            "Item d \n",
            "\n",
            "3 Neurônios na Camada Oculta - MSE: 0.19606088822746473\n",
            "4 Neurônios na Camada Oculta - MSE: 0.22676139683720647\n",
            "5 Neurônios na Camada Oculta - MSE: 0.22676304208911266\n",
            "10 Neurônios na Camada Oculta - MSE: 0.22675334818727824\n",
            "15 Neurônios na Camada Oculta - MSE: 0.20210262761651737\n",
            "20 Neurônios na Camada Oculta - MSE: 0.22676106422439138\n",
            "50 Neurônios na Camada Oculta - MSE: 0.22676307106166907\n",
            "100 Neurônios na Camada Oculta - MSE: 0.22676307106166907\n"
          ]
        }
      ]
    }
  ]
}
